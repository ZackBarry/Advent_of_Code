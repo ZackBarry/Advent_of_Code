{
 "cells": [
  {
   "cell_type": "code",
   "execution_count": 4,
   "metadata": {},
   "outputs": [],
   "source": [
    "LOG = True\n",
    "def pr(x, override=False):\n",
    "    if LOG or override:\n",
    "        print(x)"
   ]
  },
  {
   "cell_type": "code",
   "execution_count": 53,
   "metadata": {},
   "outputs": [],
   "source": [
    "letters = list('abcdefghijklmnopqrstuvwxyz')\n",
    "from collections import defaultdict\n",
    "import math\n"
   ]
  },
  {
   "cell_type": "code",
   "execution_count": 145,
   "metadata": {},
   "outputs": [],
   "source": [
    "data = open('12-input.txt').read().splitlines()\n",
    "rows = len(data)\n",
    "cols = len(data[0])"
   ]
  },
  {
   "cell_type": "code",
   "execution_count": 163,
   "metadata": {},
   "outputs": [],
   "source": [
    "data = open('12-test.txt').read().splitlines()\n",
    "rows = len(data)\n",
    "cols = len(data[0])"
   ]
  },
  {
   "cell_type": "code",
   "execution_count": 164,
   "metadata": {},
   "outputs": [],
   "source": [
    "out_data = []\n",
    "START = []\n",
    "END = []\n",
    "\n",
    "for r in range(rows):\n",
    "    raw = list(data[r])\n",
    "    out = []\n",
    "    for c in range(cols):\n",
    "        val = raw[c]\n",
    "        if val == 'S':\n",
    "            START = [r, c]\n",
    "            val = 'a'\n",
    "        elif val == 'E':\n",
    "            END = [r, c]\n",
    "            val = 'z'\n",
    "        out.append(letters.index(val))\n",
    "    out_data.append(out)\n",
    "\n",
    "data = out_data\n"
   ]
  },
  {
   "cell_type": "code",
   "execution_count": 165,
   "metadata": {},
   "outputs": [],
   "source": [
    "def get_neighbors(r, c):\n",
    "    ns = []\n",
    "    if r - 1 >= 0:\n",
    "        ns.append([r - 1, c])\n",
    "    if r + 1 < rows:\n",
    "        ns.append([r + 1, c])\n",
    "    if c - 1 >= 0:\n",
    "        ns.append([r, c - 1])\n",
    "    if c + 1 < cols:\n",
    "        ns.append([r, c + 1])\n",
    "    return ns"
   ]
  },
  {
   "cell_type": "code",
   "execution_count": 166,
   "metadata": {},
   "outputs": [
    {
     "name": "stdout",
     "output_type": "stream",
     "text": [
      "[0, 0]\n",
      "B, [0, 0]\n",
      "[2, 0]\n",
      "C, [2, 0], [[2, 0], [2, 5]]\n",
      "[1, 1]\n",
      "A, [1, 1], [[2, 2], [2, 5]]\n",
      "[[0, 0], [1, 0], [2, 0], [2, 5]]\n"
     ]
    }
   ],
   "source": [
    "fastest_from = defaultdict(list)\n",
    "\n",
    "def recurse(data, r, c, path=[]):\n",
    "    if [r, c] == END:\n",
    "        return [[r, c]]\n",
    "\n",
    "    ns = get_neighbors(r, c)\n",
    "    speeds = []\n",
    "\n",
    "    for coord in ns:\n",
    "        if coord in path or data[coord[0]][coord[1]] > data[r][c] + 1:\n",
    "            continue\n",
    "        elif (coord[0], coord[1]) in fastest_from:\n",
    "            speeds.append(fastest_from[(coord[0], coord[1])])\n",
    "        else:\n",
    "            speeds.append(recurse(data, coord[0], coord[1], path + [coord]))\n",
    "\n",
    "\n",
    "    speeds = [x for x in speeds if len(x) > 0]\n",
    "    print('-------------')\n",
    "    print([r, c])\n",
    "    print(speeds)\n",
    "\n",
    "    if len(speeds) == 0:\n",
    "        return []\n",
    "\n",
    "    fastest = sorted(speeds, key = lambda x: len(x))[0]\n",
    "    print(fastest)\n",
    "    print('-------------')\n",
    "    fastest_from[(r, c)] = fastest\n",
    "\n",
    "    return [[r, c]] + fastest\n",
    "\n",
    "out = recurse(data, START[0], START[1], [[START[0], START[0]]])\n",
    "    \n",
    "print(out)"
   ]
  },
  {
   "cell_type": "code",
   "execution_count": 168,
   "metadata": {},
   "outputs": [
    {
     "data": {
      "text/plain": [
       "[[1], [1, 2], [4, 5, 6]]"
      ]
     },
     "execution_count": 168,
     "metadata": {},
     "output_type": "execute_result"
    }
   ],
   "source": [
    "sorted([[1,2], [4,5,6],[1]], key = lambda x: len(x))"
   ]
  },
  {
   "cell_type": "code",
   "execution_count": 88,
   "metadata": {},
   "outputs": [
    {
     "name": "stdout",
     "output_type": "stream",
     "text": [
      "[0, 0, 1, 16, 15, 14, 13, 12]\n",
      "[0, 1, 2, 17, 24, 23, 23, 11]\n",
      "[0, 2, 2, 18, 25, 25, 23, 10]\n",
      "[0, 2, 2, 19, 20, 21, 22, 9]\n",
      "[0, 1, 3, 4, 5, 6, 7, 8]\n"
     ]
    }
   ],
   "source": [
    "for d in data:\n",
    "    print(d)"
   ]
  },
  {
   "cell_type": "code",
   "execution_count": 29,
   "metadata": {},
   "outputs": [
    {
     "name": "stdout",
     "output_type": "stream",
     "text": [
      "[[2, 5], [4, 5], [3, 4], [3, 6]]\n",
      "[[1, 6], [3, 6], [2, 5], [2, 7]]\n",
      "[[0, 5], [2, 5], [1, 4], [1, 6]]\n",
      "[[1, 4], [3, 4], [2, 3], [2, 5]]\n",
      "(2, 5)\n"
     ]
    }
   ],
   "source": [
    "for k, v in checked_from.items():\n",
    "    if k == (2, 5):\n",
    "        print(k)\n",
    "    elif [2, 5] in v:\n",
    "        print(v)"
   ]
  },
  {
   "cell_type": "code",
   "execution_count": null,
   "metadata": {},
   "outputs": [],
   "source": []
  },
  {
   "cell_type": "code",
   "execution_count": null,
   "metadata": {},
   "outputs": [],
   "source": []
  },
  {
   "cell_type": "code",
   "execution_count": null,
   "metadata": {},
   "outputs": [],
   "source": []
  }
 ],
 "metadata": {
  "kernelspec": {
   "display_name": "Python 3.10.4 64-bit ('3.10.4')",
   "language": "python",
   "name": "python3"
  },
  "language_info": {
   "codemirror_mode": {
    "name": "ipython",
    "version": 3
   },
   "file_extension": ".py",
   "mimetype": "text/x-python",
   "name": "python",
   "nbconvert_exporter": "python",
   "pygments_lexer": "ipython3",
   "version": "3.10.4"
  },
  "orig_nbformat": 4,
  "vscode": {
   "interpreter": {
    "hash": "cf61cd4fbd63eaf66481958b262ede097c1f0e5cab95d2f14ea306d088cc92f6"
   }
  }
 },
 "nbformat": 4,
 "nbformat_minor": 2
}
